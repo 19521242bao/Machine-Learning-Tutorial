{
  "nbformat": 4,
  "nbformat_minor": 0,
  "metadata": {
    "colab": {
      "name": "[Tutorials] Digit recognition.ipynb",
      "provenance": [],
      "collapsed_sections": [],
      "include_colab_link": true
    },
    "kernelspec": {
      "name": "python3",
      "display_name": "Python 3"
    }
  },
  "cells": [
    {
      "cell_type": "markdown",
      "metadata": {
        "id": "view-in-github",
        "colab_type": "text"
      },
      "source": [
        "<a href=\"https://colab.research.google.com/github/19521242bao/Machine-Learning-Tutorial/blob/main/%5BTutorials%5D_Digit_recognition.ipynb\" target=\"_parent\"><img src=\"https://colab.research.google.com/assets/colab-badge.svg\" alt=\"Open In Colab\"/></a>"
      ]
    },
    {
      "cell_type": "markdown",
      "metadata": {
        "id": "IlHrehfZm37R"
      },
      "source": [
        "# Digit recognition"
      ]
    },
    {
      "cell_type": "markdown",
      "metadata": {
        "id": "oGTI2_GVm8lv"
      },
      "source": [
        "*Import các thư viện cần thiết*"
      ]
    },
    {
      "cell_type": "code",
      "metadata": {
        "id": "v69TZW10lBr0"
      },
      "source": [
        "import pandas as pd\n",
        "import numpy as np\n",
        "import matplotlib.pyplot as plt\n",
        "import random"
      ],
      "execution_count": null,
      "outputs": []
    },
    {
      "cell_type": "markdown",
      "metadata": {
        "id": "t4zbCKfFnDPZ"
      },
      "source": [
        "## 1. Chuẩn bị dữ liệu"
      ]
    },
    {
      "cell_type": "code",
      "metadata": {
        "id": "at_MExFenL2q"
      },
      "source": [
        "# Định nghĩa các đường dẫn đến tập dữ liệu train và tập dữ liệu test\n",
        "TRAIN_PATH = 'data/train_new.csv'\n",
        "TEST_PATH = 'data/test_new.csv'"
      ],
      "execution_count": null,
      "outputs": []
    },
    {
      "cell_type": "code",
      "metadata": {
        "id": "1H3bAUuonBne"
      },
      "source": [
        "# Load dữ liệu vào chương trình thực thi bằng thư viện pandas\n",
        "data = pd.read_csv(TRAIN_PATH)"
      ],
      "execution_count": null,
      "outputs": []
    },
    {
      "cell_type": "markdown",
      "metadata": {
        "id": "1NvWBTf3nveY"
      },
      "source": [
        "### Xem một số thông tin của tập dữ liệu huấn luyện"
      ]
    },
    {
      "cell_type": "code",
      "metadata": {
        "id": "istsHLclnytu",
        "outputId": "85bc8f9e-df93-43d2-d4aa-36edfcabe1b5",
        "colab": {
          "base_uri": "https://localhost:8080/"
        }
      },
      "source": [
        "# Xem số kích thước bộ dữ liệu\n",
        "print(\"Kích thước của bộ dữ liệu huấn luyện là: \", len(data))\n",
        "\n",
        "# Xem các đặc trưng\n",
        "print(data.columns)"
      ],
      "execution_count": null,
      "outputs": [
        {
          "output_type": "stream",
          "text": [
            "Kích thước của bộ dữ liệu huấn luyện là:  29400\n",
            "Index(['label', 'pixel0', 'pixel1', 'pixel2', 'pixel3', 'pixel4', 'pixel5',\n",
            "       'pixel6', 'pixel7', 'pixel8',\n",
            "       ...\n",
            "       'pixel774', 'pixel775', 'pixel776', 'pixel777', 'pixel778', 'pixel779',\n",
            "       'pixel780', 'pixel781', 'pixel782', 'pixel783'],\n",
            "      dtype='object', length=785)\n"
          ],
          "name": "stdout"
        }
      ]
    },
    {
      "cell_type": "markdown",
      "metadata": {
        "id": "OBzEH1pUn-sU"
      },
      "source": [
        "### Xem số lượng các classes trong dữ liệu huấn luyện"
      ]
    },
    {
      "cell_type": "code",
      "metadata": {
        "id": "4Vs-DTdMoGsH",
        "outputId": "3155f26e-b58a-4680-a71d-7da19b6b3871",
        "colab": {
          "base_uri": "https://localhost:8080/",
          "height": 418
        }
      },
      "source": [
        "digits = [0, 1, 2, 3, 4, 5, 6, 7, 8, 9]\n",
        "counts = [0]*10\n",
        "\n",
        "for i in range(0, len(data)):\n",
        "    index = data['label'].values[i]\n",
        "    counts[index] += 1\n",
        "    \n",
        "fig, ax = plt.subplots(figsize=(9,6))\n",
        "\n",
        "ax.bar(digits, counts, width=0.5)\n",
        "\n",
        "ax.set_title('Thống kê số lượng ảnh của mỗi class', fontsize=18)\n",
        "ax.set_xlabel('Chữ số', fontsize=14)\n",
        "ax.set_ylabel('Số lượng ảnh', fontsize=14)\n",
        "\n",
        "plt.xticks(digits, fontsize=14)\n",
        "\n",
        "plt.show()"
      ],
      "execution_count": null,
      "outputs": [
        {
          "output_type": "display_data",
          "data": {
            "image/png": "[encoded data removed]",
            "text/plain": [
              "<Figure size 648x432 with 1 Axes>"
            ]
          },
          "metadata": {
            "tags": [],
            "needs_background": "light"
          }
        }
      ]
    },
    {
      "cell_type": "markdown",
      "metadata": {
        "id": "IpLC8BM4ofSE"
      },
      "source": [
        "## 3. Chia dữ liệu huấn luyện và chọn mô hình máy học"
      ]
    },
    {
      "cell_type": "markdown",
      "metadata": {
        "id": "piU0zQ_4pHpu"
      },
      "source": [
        "### Phân chia dữ liệu huấn luyện"
      ]
    },
    {
      "cell_type": "code",
      "metadata": {
        "id": "pEfZBdLYomBV"
      },
      "source": [
        "percent_train = 0.75\n",
        "len_train = int(len(data)*percent_train)\n",
        "\n",
        "y_train = np.array(data['label'][0:len_train])\n",
        "X_train = np.array(data.iloc[:len_train,1:])\n",
        "\n",
        "y_test = np.array(data['label'][len_train:])\n",
        "X_test = np.array(data.iloc[len_train:,1:])"
      ],
      "execution_count": null,
      "outputs": []
    },
    {
      "cell_type": "markdown",
      "metadata": {
        "id": "dAC1t9ydpm3C"
      },
      "source": [
        "### Chọn mô hình máy học"
      ]
    },
    {
      "cell_type": "code",
      "metadata": {
        "id": "MuDNvjfppmFW",
        "outputId": "8bdbc0ae-96c7-408b-8e8b-cb9d7b517963",
        "colab": {
          "base_uri": "https://localhost:8080/"
        }
      },
      "source": [
        "from sklearn.ensemble import RandomForestClassifier\n",
        "\n",
        "# Khởi tạo một mô mình máy học.\n",
        "model = RandomForestClassifier(max_depth=15)\n",
        "\n",
        "# Bắt đầu huấn luyện mô hình trên dữ liệu được phân chia.\n",
        "model.fit(X_train, y_train)"
      ],
      "execution_count": null,
      "outputs": [
        {
          "output_type": "execute_result",
          "data": {
            "text/plain": [
              "RandomForestClassifier(bootstrap=True, ccp_alpha=0.0, class_weight=None,\n",
              "                       criterion='gini', max_depth=15, max_features='auto',\n",
              "                       max_leaf_nodes=None, max_samples=None,\n",
              "                       min_impurity_decrease=0.0, min_impurity_split=None,\n",
              "                       min_samples_leaf=1, min_samples_split=2,\n",
              "                       min_weight_fraction_leaf=0.0, n_estimators=100,\n",
              "                       n_jobs=None, oob_score=False, random_state=None,\n",
              "                       verbose=0, warm_start=False)"
            ]
          },
          "metadata": {
            "tags": []
          },
          "execution_count": 7
        }
      ]
    },
    {
      "cell_type": "code",
      "metadata": {
        "id": "Q2ducdSurL3f",
        "outputId": "2c7f5713-f099-4ef7-f5ee-8c20cbbf45df",
        "colab": {
          "base_uri": "https://localhost:8080/"
        }
      },
      "source": [
        "from sklearn.metrics import classification_report\n",
        "# Đưa ra dự đoán nhãn của các mẫu dữ liệu trong tập dữ liệu kiểm thử được phân chia ở trên\n",
        "y_pred = model.predict(X_test)\n",
        "\n",
        "# Tính toán mộ số độ đo đánh giá mô hình\n",
        "print(classification_report(y_true=y_test, y_pred=y_pred, target_names=[str(i) for i in range(10)]))\n",
        "\n",
        "# Tính độ chính xác của mô hình trên tập dữ liệu test đã được phân chia.\n",
        "score = model.score(X_test, y_test)\n",
        "print(\"Độ chính xác của mô hình là: {:.2f} %\".format(score*100))"
      ],
      "execution_count": null,
      "outputs": [
        {
          "output_type": "stream",
          "text": [
            "              precision    recall  f1-score   support\n",
            "\n",
            "           0       0.97      0.98      0.97       724\n",
            "           1       0.98      0.98      0.98       804\n",
            "           2       0.95      0.97      0.96       728\n",
            "           3       0.96      0.92      0.94       740\n",
            "           4       0.95      0.95      0.95       718\n",
            "           5       0.96      0.96      0.96       667\n",
            "           6       0.97      0.98      0.97       727\n",
            "           7       0.95      0.96      0.96       788\n",
            "           8       0.96      0.94      0.95       719\n",
            "           9       0.93      0.94      0.93       735\n",
            "\n",
            "    accuracy                           0.96      7350\n",
            "   macro avg       0.96      0.96      0.96      7350\n",
            "weighted avg       0.96      0.96      0.96      7350\n",
            "\n",
            "Độ chính xác của mô hình là: 95.74 %\n"
          ],
          "name": "stdout"
        }
      ]
    },
    {
      "cell_type": "markdown",
      "metadata": {
        "id": "TVncY6nvt1_b"
      },
      "source": [
        "## 3. Dự đoán nhãn cho dữ liệu test"
      ]
    },
    {
      "cell_type": "code",
      "metadata": {
        "id": "k1fBDwtRq6lQ"
      },
      "source": [
        "# Đọc dữ liệu từ file test\n",
        "test_data = pd.read_csv(TEST_PATH)\n",
        "test_vectors = np.array(test_data.iloc[:,:])"
      ],
      "execution_count": null,
      "outputs": []
    },
    {
      "cell_type": "code",
      "metadata": {
        "id": "AdxCJbY7uQB9"
      },
      "source": [
        "result = np.array(model.predict(test_vectors))"
      ],
      "execution_count": null,
      "outputs": []
    },
    {
      "cell_type": "markdown",
      "metadata": {
        "id": "WY3p2gwTuY_2"
      },
      "source": [
        "### Ghi lại kết quả của bài toán vào file submission"
      ]
    },
    {
      "cell_type": "code",
      "metadata": {
        "id": "WZLEFMvSuUcY"
      },
      "source": [
        "# Tạo một hàng đầu tiên có hai cột là ImangeID và Label\n",
        "df = pd.DataFrame(columns=['ImageId','Label'])\n",
        "\n",
        "# Duyệt dữ kết quả và ghi vào df\n",
        "for i, v in enumerate(result):\n",
        "  df = df.append({'ImageId':i+1,'Label':v}, ignore_index=True)\n",
        "\n",
        "# Ghi ra file csv\n",
        "df.to_csv('submission.csv',index = False)"
      ],
      "execution_count": null,
      "outputs": []
    },
    {
      "cell_type": "markdown",
      "metadata": {
        "id": "mEsuBkRNvDpS"
      },
      "source": [
        "## 4. Submit file submission lên hệ thống chấm điểm"
      ]
    },
    {
      "cell_type": "code",
      "metadata": {
        "id": "BbzumX5ivDYL"
      },
      "source": [
        "import math, requests\n",
        "\n",
        "def submit_prediction(df, sep=',', comment='', compression='gzip', **kwargs):\n",
        "    TOKEN='313e1d7d25f2621eed2b302b345e0214fbef7d22220fb2eab35faa70edbe2f628a5d18c289de96a2547bd0eb212949ad13fca395aa561a5b9ad2cbd7ef29a20b'\n",
        "    URL='http://submission.mmlab.uit.edu.vn/api/submissions'\n",
        "    df.to_csv('temporary.dat', sep=sep, compression=compression, **kwargs)\n",
        "    r = requests.post(URL, headers={'Authorization': 'Bearer {}'.format(TOKEN)},files={'datafile': open('temporary.dat', 'rb')},data={'comment':comment, 'compression': compression})\n",
        "    if r.status_code == 429:\n",
        "        raise Exception('Submissions are too close. Next submission is only allowed in {} seconds.'.format(int(math.ceil(int(r.headers['x-rate-limit-remaining']) / 1000.0))))\n",
        "    if r.status_code != 200:\n",
        "        raise Exception(r.text)"
      ],
      "execution_count": null,
      "outputs": []
    },
    {
      "cell_type": "code",
      "metadata": {
        "id": "us7Aqyuxvr_J"
      },
      "source": [
        "path = 'submission.csv'\n",
        "submit_data = pd.read_csv(path)\n",
        "submit_prediction(submit_data, sep=',', index=True, comment='test submission')"
      ],
      "execution_count": null,
      "outputs": []
    },
    {
      "cell_type": "markdown",
      "metadata": {
        "id": "XmETUrpnwCSC"
      },
      "source": [
        "#### Kết quả submission"
      ]
    },
    {
      "cell_type": "markdown",
      "metadata": {
        "id": "IHuwWZP7wElz"
      },
      "source": [
        "![image.png](data:image/png;base64,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)"
      ]
    },
    {
      "cell_type": "markdown",
      "metadata": {
        "id": "-8bnsOnfwVBU"
      },
      "source": [
        "#### Xếp hạng "
      ]
    },
    {
      "cell_type": "markdown",
      "metadata": {
        "id": "WmKaHhwVwYcB"
      },
      "source": [
        "![image.png](data:image/png;base64,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)"
      ]
    }
  ]
}