{
  "nbformat": 4,
  "nbformat_minor": 0,
  "metadata": {
    "colab": {
      "name": "bubble sort",
      "provenance": [],
      "collapsed_sections": [],
      "include_colab_link": true
    },
    "kernelspec": {
      "name": "python3",
      "display_name": "Python 3"
    }
  },
  "cells": [
    {
      "cell_type": "markdown",
      "metadata": {
        "id": "view-in-github",
        "colab_type": "text"
      },
      "source": [
        "<a href=\"https://colab.research.google.com/github/19521242bao/Machine-Learning-Tutorial/blob/main/pttktt.ipynb\" target=\"_parent\"><img src=\"https://colab.research.google.com/assets/colab-badge.svg\" alt=\"Open In Colab\"/></a>"
      ]
    },
    {
      "cell_type": "code",
      "metadata": {
        "id": "hIjc2-fe8Rmd",
        "outputId": "31001208-0832-4eb0-aa2b-3f31027ecc57",
        "colab": {
          "base_uri": "https://localhost:8080/"
        }
      },
      "source": [
        "!cat nacako1.csv"
      ],
      "execution_count": null,
      "outputs": [
        {
          "output_type": "stream",
          "text": [
            "﻿b,time\r\n",
            "19520197,0.189\r\n",
            "195201977,0.208\r\n",
            "1952019777,0.221\r\n",
            "19520197777,0.246\r\n",
            "1.95202E+11,0.278\r\n",
            "1.95202E+12,0.306\r\n",
            "1.95202E+13,0.332\r\n",
            "1.95202E+14,0.344\r\n",
            "1.95202E+15,0.383\r\n",
            "1.95202E+16,0.398\r\n",
            "1.95202E+17,0.426\r\n",
            "1.95202E+18,0.463\r\n",
            "1.95202E+19,0.475\r\n",
            "1.95202E+20,0.488\r\n",
            "1.95202E+21,0.518\r\n",
            "1.95202E+22,0.537\r\n",
            "1.95202E+23,0.587\r\n",
            "1.95202E+24,0.608\r\n",
            "1.95202E+25,0.607\r\n",
            "1.95202E+26,0.641\r\n",
            "1.95202E+27,0.663\r\n",
            "1.95202E+28,0.71\r\n",
            "1.95202E+29,0.723\r\n",
            "1.95202E+30,0.762\r\n",
            "1.95202E+31,0.78\r\n",
            "1.95202E+32,0.816\r\n",
            "1.95202E+33,0.843\r\n",
            "1.95202E+34,0.85\r\n",
            "1.95202E+35,0.875\r\n",
            "1.95202E+36,0.924\r\n"
          ],
          "name": "stdout"
        }
      ]
    },
    {
      "cell_type": "code",
      "metadata": {
        "id": "6G3o0GRg9u-9",
        "outputId": "58d37245-7fbc-4138-d298-6e06b62d590b",
        "colab": {
          "base_uri": "https://localhost:8080/"
        }
      },
      "source": [
        "import pandas as pd\n",
        "data=pd.read_csv('nacako1.csv')\n",
        "data.columns=['size','operation']\n",
        "print (data)"
      ],
      "execution_count": null,
      "outputs": [
        {
          "output_type": "stream",
          "text": [
            "            size  operation\n",
            "0   1.952020e+07      0.189\n",
            "1   1.952020e+08      0.208\n",
            "2   1.952020e+09      0.221\n",
            "3   1.952020e+10      0.246\n",
            "4   1.952020e+11      0.278\n",
            "5   1.952020e+12      0.306\n",
            "6   1.952020e+13      0.332\n",
            "7   1.952020e+14      0.344\n",
            "8   1.952020e+15      0.383\n",
            "9   1.952020e+16      0.398\n",
            "10  1.952020e+17      0.426\n",
            "11  1.952020e+18      0.463\n",
            "12  1.952020e+19      0.475\n",
            "13  1.952020e+20      0.488\n",
            "14  1.952020e+21      0.518\n",
            "15  1.952020e+22      0.537\n",
            "16  1.952020e+23      0.587\n",
            "17  1.952020e+24      0.608\n",
            "18  1.952020e+25      0.607\n",
            "19  1.952020e+26      0.641\n",
            "20  1.952020e+27      0.663\n",
            "21  1.952020e+28      0.710\n",
            "22  1.952020e+29      0.723\n",
            "23  1.952020e+30      0.762\n",
            "24  1.952020e+31      0.780\n",
            "25  1.952020e+32      0.816\n",
            "26  1.952020e+33      0.843\n",
            "27  1.952020e+34      0.850\n",
            "28  1.952020e+35      0.875\n",
            "29  1.952020e+36      0.924\n"
          ],
          "name": "stdout"
        }
      ]
    },
    {
      "cell_type": "code",
      "metadata": {
        "id": "i7w29w-5BLHN"
      },
      "source": [
        "import numpy as np\n",
        "X_=(data['size']).tolist()\n",
        "X_"
      ],
      "execution_count": null,
      "outputs": []
    },
    {
      "cell_type": "code",
      "metadata": {
        "id": "hWRuToVPhNQG"
      },
      "source": [
        "X_=np.array(data['size']).reshape(-1,1)\n",
        "X_"
      ],
      "execution_count": null,
      "outputs": []
    },
    {
      "cell_type": "code",
      "metadata": {
        "id": "72CHjGohBy4X"
      },
      "source": [
        "Y_=np.array(data['operation']).reshape(-1,1)\n",
        "Y_"
      ],
      "execution_count": null,
      "outputs": []
    },
    {
      "cell_type": "code",
      "metadata": {
        "id": "x2zFuCEMCZkl"
      },
      "source": [
        "def sqrt_n(arr):\n",
        "  return arr**(1/2)\n",
        "sqrt_n(X_)"
      ],
      "execution_count": null,
      "outputs": []
    },
    {
      "cell_type": "code",
      "metadata": {
        "id": "DlCs6SlUGDkc",
        "outputId": "3195853b-ae6c-4101-8d19-7975d68ef594",
        "colab": {
          "base_uri": "https://localhost:8080/"
        }
      },
      "source": [
        "def log2_n(arr):\n",
        "  return np.log2(arr)\n",
        "log2_n(X_)"
      ],
      "execution_count": null,
      "outputs": [
        {
          "output_type": "execute_result",
          "data": {
            "text/plain": [
              "array([[ 24.21846428],\n",
              "       [ 27.54039242],\n",
              "       [ 30.86232052],\n",
              "       [ 34.18424862],\n",
              "       [ 37.50617688],\n",
              "       [ 40.82810497],\n",
              "       [ 44.15003307],\n",
              "       [ 47.47196116],\n",
              "       [ 50.79388926],\n",
              "       [ 54.11581735],\n",
              "       [ 57.43774545],\n",
              "       [ 60.75967354],\n",
              "       [ 64.08160164],\n",
              "       [ 67.40352973],\n",
              "       [ 70.72545783],\n",
              "       [ 74.04738592],\n",
              "       [ 77.36931402],\n",
              "       [ 80.69124211],\n",
              "       [ 84.01317021],\n",
              "       [ 87.3350983 ],\n",
              "       [ 90.6570264 ],\n",
              "       [ 93.97895449],\n",
              "       [ 97.30088259],\n",
              "       [100.62281068],\n",
              "       [103.94473878],\n",
              "       [107.26666687],\n",
              "       [110.58859497],\n",
              "       [113.91052306],\n",
              "       [117.23245116],\n",
              "       [120.55437925]])"
            ]
          },
          "metadata": {
            "tags": []
          },
          "execution_count": 8
        }
      ]
    },
    {
      "cell_type": "code",
      "metadata": {
        "id": "bTr8Rk6tHh-y"
      },
      "source": [
        "def n(arr):\n",
        "  return arr\n",
        "n(X_)"
      ],
      "execution_count": null,
      "outputs": []
    },
    {
      "cell_type": "code",
      "metadata": {
        "id": "emz_lCHiJnOP"
      },
      "source": [
        "def nlog2_n(arr):\n",
        "  return arr*np.log2(arr)\n",
        "nlog2_n(X_)"
      ],
      "execution_count": null,
      "outputs": []
    },
    {
      "cell_type": "code",
      "metadata": {
        "id": "Z6iCaWwLMVW4"
      },
      "source": [
        "def n2(arr):\n",
        "  return arr**2\n",
        "n2(X_)"
      ],
      "execution_count": null,
      "outputs": []
    },
    {
      "cell_type": "code",
      "metadata": {
        "id": "mkB-fRNKOaG2"
      },
      "source": [
        "def n3(arr):\n",
        "  return arr**3\n",
        "n3(X_)"
      ],
      "execution_count": null,
      "outputs": []
    },
    {
      "cell_type": "code",
      "metadata": {
        "id": "Ee_Q9LGHguPF"
      },
      "source": [
        "from sklearn.linear_model import LinearRegression\n",
        "model = LinearRegression()"
      ],
      "execution_count": null,
      "outputs": []
    },
    {
      "cell_type": "code",
      "metadata": {
        "id": "mUUNSe12g4fu",
        "outputId": "3981b025-8f57-47c8-faac-2f4339114b72",
        "colab": {
          "base_uri": "https://localhost:8080/"
        }
      },
      "source": [
        "model.fit(log2_n(X_),Y_)"
      ],
      "execution_count": null,
      "outputs": [
        {
          "output_type": "execute_result",
          "data": {
            "text/plain": [
              "LinearRegression(copy_X=True, fit_intercept=True, n_jobs=None, normalize=False)"
            ]
          },
          "metadata": {
            "tags": []
          },
          "execution_count": 10
        }
      ]
    },
    {
      "cell_type": "code",
      "metadata": {
        "id": "MkapeHHNg9yZ",
        "outputId": "a456ef61-dd18-4276-cee5-e4bd32fda02b",
        "colab": {
          "base_uri": "https://localhost:8080/"
        }
      },
      "source": [
        "model.coef_"
      ],
      "execution_count": null,
      "outputs": [
        {
          "output_type": "execute_result",
          "data": {
            "text/plain": [
              "array([[0.00757892]])"
            ]
          },
          "metadata": {
            "tags": []
          },
          "execution_count": 11
        }
      ]
    },
    {
      "cell_type": "code",
      "metadata": {
        "id": "cXi1jaz1hCG4",
        "outputId": "e00638be-a34b-4a5b-9173-6fa7c4e3980a",
        "colab": {
          "base_uri": "https://localhost:8080/"
        }
      },
      "source": [
        "model.intercept_"
      ],
      "execution_count": null,
      "outputs": [
        {
          "output_type": "execute_result",
          "data": {
            "text/plain": [
              "array([-0.00857786])"
            ]
          },
          "metadata": {
            "tags": []
          },
          "execution_count": 12
        }
      ]
    },
    {
      "cell_type": "code",
      "metadata": {
        "id": "7mnsa658QZUj"
      },
      "source": [
        "def Print(x):\n",
        "  x=str(x)\n",
        "  length=len(str(x))-6\n",
        "  List=[]\n",
        "  List.append(x[:6])\n",
        "  List.append('E+')\n",
        "  List.append(str(len(x)-6))\n",
        "  print(''.join(List))\n"
      ],
      "execution_count": null,
      "outputs": []
    },
    {
      "cell_type": "code",
      "metadata": {
        "id": "KEy-2Edh0Rzw"
      },
      "source": [
        "X_=data['size'].tolist()\n",
        "for i in X_:\n",
        "  t=int(str(i))\n",
        "  giaithua=1\n",
        "  while(t>1):\n",
        "    giaithua*=t\n",
        "    t-=1\n",
        "  Print(giaithua)\n"
      ],
      "execution_count": null,
      "outputs": []
    },
    {
      "cell_type": "code",
      "metadata": {
        "id": "zZgjEqVA8X-K"
      },
      "source": [
        "import pandas as pd\n",
        "data1=pd.read_csv('data2.1.csv')\n",
        "data1.columns=['size']\n",
        "print (data1)"
      ],
      "execution_count": null,
      "outputs": []
    },
    {
      "cell_type": "code",
      "metadata": {
        "id": "7JWG9Crk8iXd"
      },
      "source": [
        "X_=np.array(data1['size']).reshape(-1,1)\n",
        "X_"
      ],
      "execution_count": null,
      "outputs": []
    },
    {
      "cell_type": "code",
      "metadata": {
        "id": "u418YWUbDbAd"
      },
      "source": [
        "X_=data['size'].tolist()\n",
        "for i in X_:\n",
        "  Print(2**i)"
      ],
      "execution_count": null,
      "outputs": []
    },
    {
      "cell_type": "code",
      "metadata": {
        "id": "DB5Fu0oJEefU"
      },
      "source": [
        "import math\n",
        "from decimal import *\n",
        "from sklearn.linear_model import LinearRegression\n",
        "getcontext().prec=999999999999999\n",
        "Decimal(math.factorial(99999999999))\n",
        "model = LinearRegression()\n"
      ],
      "execution_count": null,
      "outputs": []
    },
    {
      "cell_type": "code",
      "metadata": {
        "id": "YfHvJwtnNcFU"
      },
      "source": [
        "x_=data['size']\n",
        "x_=np.array(x_,dtype=np.dtype(Decimal))\n",
        "x_=[2**i for i in x_]\n",
        "x_=np.reshape(x_,(-1,1))\n",
        "print(x_)"
      ],
      "execution_count": null,
      "outputs": []
    },
    {
      "cell_type": "code",
      "metadata": {
        "id": "GMQ0hy-DOi8T"
      },
      "source": [
        "y_=data['operation']\n",
        "y_=np.array(y_,dtype=np.dtype(Decimal))\n",
        "y_=np.reshape(y_,(-1,1))\n",
        "print(y_)"
      ],
      "execution_count": null,
      "outputs": []
    },
    {
      "cell_type": "code",
      "metadata": {
        "id": "pqcb3zgKE6f3"
      },
      "source": [
        "model.fit(x_,y_)"
      ],
      "execution_count": null,
      "outputs": []
    },
    {
      "cell_type": "code",
      "metadata": {
        "id": "pIYmnG2LFH4i"
      },
      "source": [
        "model.coef_"
      ],
      "execution_count": null,
      "outputs": []
    },
    {
      "cell_type": "code",
      "metadata": {
        "id": "tVa6JNvdFKg4"
      },
      "source": [
        "model.intercept_"
      ],
      "execution_count": null,
      "outputs": []
    },
    {
      "cell_type": "code",
      "metadata": {
        "id": "Y89hQLcVmTrO"
      },
      "source": [
        "!cat data2.csv"
      ],
      "execution_count": null,
      "outputs": []
    },
    {
      "cell_type": "code",
      "metadata": {
        "id": "VOfIuAeLmcu0"
      },
      "source": [
        "import pandas as pd\n",
        "data=pd.read_csv('data.csv')\n",
        "data.columns=['size','operation']\n",
        "print (data)"
      ],
      "execution_count": null,
      "outputs": []
    },
    {
      "cell_type": "code",
      "metadata": {
        "id": "z03TwBs_oDnq"
      },
      "source": [
        "def Print(a,list):\n",
        "  a=str(a)\n",
        "  length=len(str(a))-6\n",
        "  lst=[]\n",
        "  lst.append(a[:6])\n",
        "  lst.append('e+')\n",
        "  lst.append(str(len(a)-6))\n",
        "  list.append(''.join(lst))"
      ],
      "execution_count": null,
      "outputs": []
    },
    {
      "cell_type": "code",
      "metadata": {
        "id": "zcVSf5N5cCoW"
      },
      "source": [
        "import math\n",
        "from decimal import *\n",
        "getcontext().Emax=9999999999999\n",
        "x_=data['size']\n",
        "y_=data['operation']\n",
        "t=x_.tolist()\n",
        "t2=y_.tolist()\n",
        "dem=0\n",
        "for i in t:\n",
        "  List=[]\n",
        "  List.append(str(i))\n",
        "  operation=t2[dem]\n",
        "  List.append(str(operation))\n",
        "  #k=0\n",
        "  #tam=int(str(i))\n",
        "  #giaithua=1.0\n",
        "  #while tam > 1:\n",
        "    #giaithua*=tam\n",
        "    #tam-=1\n",
        "  #Print(giaithua,List)\n",
        " # List.append(str(k)) #1*n!+0\n",
        "  #Print((giaithua-operation)**2,List) #mse cua n!\n",
        "  #List.append(str(k))\n",
        "  List.append(giaithua_[dem-1])\n",
        "  List.append(giaithua_[dem-1])\n",
        "\n",
        "  dem+=1\n",
        "  print(','.join(List))\n"
      ],
      "execution_count": null,
      "outputs": []
    }
  ]
}